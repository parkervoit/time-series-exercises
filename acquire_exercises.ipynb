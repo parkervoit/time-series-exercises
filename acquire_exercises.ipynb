{
 "cells": [
  {
   "cell_type": "code",
   "execution_count": 77,
   "metadata": {},
   "outputs": [],
   "source": [
    "import requests\n",
    "import pandas as pd\n",
    "import io\n",
    "import os"
   ]
  },
  {
   "cell_type": "markdown",
   "metadata": {},
   "source": [
    "# Exercises"
   ]
  },
  {
   "cell_type": "markdown",
   "metadata": {},
   "source": [
    "### 1. Using the code from the lesson as a guide and the REST API from https://python.zach.lol/api/v1/items as we did in the lesson, create a dataframe named items that has all of the data for items."
   ]
  },
  {
   "cell_type": "code",
   "execution_count": 2,
   "metadata": {},
   "outputs": [
    {
     "name": "stdout",
     "output_type": "stream",
     "text": [
      "\n",
      "The API accepts GET requests for all endpoints, where endpoints are prefixed\n",
      "with\n",
      "\n",
      "    /api/{version}\n",
      "\n",
      "Where version is \"v1\"\n",
      "\n",
      "Valid endpoints:\n",
      "\n",
      "- /stores[/{store_id}]\n",
      "- /items[/{item_id}]\n",
      "- /sales[/{sale_id}]\n",
      "\n",
      "All endpoints accept a `page` parameter that can be used to navigate through\n",
      "the results.\n",
      "\n"
     ]
    }
   ],
   "source": [
    "base_url = 'https://python.zach.lol'\n",
    "response = requests.get(base_url + '/documentation')\n",
    "print(response.json()['payload'])"
   ]
  },
  {
   "cell_type": "code",
   "execution_count": 3,
   "metadata": {},
   "outputs": [],
   "source": [
    "response = requests.get('https://python.zach.lol/api/v1/items')"
   ]
  },
  {
   "cell_type": "code",
   "execution_count": 4,
   "metadata": {},
   "outputs": [
    {
     "data": {
      "text/plain": [
       "dict_keys(['payload', 'status'])"
      ]
     },
     "execution_count": 4,
     "metadata": {},
     "output_type": "execute_result"
    }
   ],
   "source": [
    "data = response.json()\n",
    "data.keys()"
   ]
  },
  {
   "cell_type": "code",
   "execution_count": 5,
   "metadata": {},
   "outputs": [],
   "source": [
    "response = requests.get(base_url + data['payload']['next_page'])\n",
    "data = response.json()"
   ]
  },
  {
   "cell_type": "code",
   "execution_count": 6,
   "metadata": {},
   "outputs": [
    {
     "data": {
      "text/plain": [
       "dict_keys(['items', 'max_page', 'next_page', 'page', 'previous_page'])"
      ]
     },
     "execution_count": 6,
     "metadata": {},
     "output_type": "execute_result"
    }
   ],
   "source": [
    "data['payload'].keys()"
   ]
  },
  {
   "cell_type": "code",
   "execution_count": 7,
   "metadata": {},
   "outputs": [
    {
     "name": "stdout",
     "output_type": "stream",
     "text": [
      "max_page: 3\n",
      "next_page: /api/v1/items?page=3\n"
     ]
    }
   ],
   "source": [
    "print('max_page: %s' % data['payload']['max_page'])\n",
    "print('next_page: %s' % data['payload']['next_page'])"
   ]
  },
  {
   "cell_type": "code",
   "execution_count": 8,
   "metadata": {},
   "outputs": [
    {
     "data": {
      "text/plain": [
       "[{'item_brand': 'Doctors Best',\n",
       "  'item_id': 21,\n",
       "  'item_name': 'Doctors Best Best Curcumin C3 Complex 1000mg Tablets - 120 Ct',\n",
       "  'item_price': 8.09,\n",
       "  'item_upc12': '753950001954',\n",
       "  'item_upc14': '753950001954'}]"
      ]
     },
     "execution_count": 8,
     "metadata": {},
     "output_type": "execute_result"
    }
   ],
   "source": [
    "data['payload']['items'][:1]"
   ]
  },
  {
   "cell_type": "code",
   "execution_count": 9,
   "metadata": {},
   "outputs": [],
   "source": [
    "items_df = pd.DataFrame(data['payload']['items'])"
   ]
  },
  {
   "cell_type": "code",
   "execution_count": 10,
   "metadata": {},
   "outputs": [
    {
     "data": {
      "text/html": [
       "<div>\n",
       "<style scoped>\n",
       "    .dataframe tbody tr th:only-of-type {\n",
       "        vertical-align: middle;\n",
       "    }\n",
       "\n",
       "    .dataframe tbody tr th {\n",
       "        vertical-align: top;\n",
       "    }\n",
       "\n",
       "    .dataframe thead th {\n",
       "        text-align: right;\n",
       "    }\n",
       "</style>\n",
       "<table border=\"1\" class=\"dataframe\">\n",
       "  <thead>\n",
       "    <tr style=\"text-align: right;\">\n",
       "      <th></th>\n",
       "      <th>item_brand</th>\n",
       "      <th>item_id</th>\n",
       "      <th>item_name</th>\n",
       "      <th>item_price</th>\n",
       "      <th>item_upc12</th>\n",
       "      <th>item_upc14</th>\n",
       "    </tr>\n",
       "  </thead>\n",
       "  <tbody>\n",
       "    <tr>\n",
       "      <th>0</th>\n",
       "      <td>Doctors Best</td>\n",
       "      <td>21</td>\n",
       "      <td>Doctors Best Best Curcumin C3 Complex 1000mg T...</td>\n",
       "      <td>8.09</td>\n",
       "      <td>753950001954</td>\n",
       "      <td>753950001954</td>\n",
       "    </tr>\n",
       "    <tr>\n",
       "      <th>1</th>\n",
       "      <td>Betty Crocker</td>\n",
       "      <td>22</td>\n",
       "      <td>Betty Crocker Twin Pack Real Potatoes Scallope...</td>\n",
       "      <td>7.31</td>\n",
       "      <td>16000288829</td>\n",
       "      <td>16000288829</td>\n",
       "    </tr>\n",
       "    <tr>\n",
       "      <th>2</th>\n",
       "      <td>Reese</td>\n",
       "      <td>23</td>\n",
       "      <td>Reese Mandarin Oranges Segments In Light Syrup</td>\n",
       "      <td>1.78</td>\n",
       "      <td>70670009658</td>\n",
       "      <td>70670009658</td>\n",
       "    </tr>\n",
       "    <tr>\n",
       "      <th>3</th>\n",
       "      <td>Smart Living</td>\n",
       "      <td>24</td>\n",
       "      <td>Smart Living Charcoal Lighter Fluid</td>\n",
       "      <td>5.34</td>\n",
       "      <td>688267084225</td>\n",
       "      <td>688267084225</td>\n",
       "    </tr>\n",
       "    <tr>\n",
       "      <th>4</th>\n",
       "      <td>Hood</td>\n",
       "      <td>25</td>\n",
       "      <td>Hood Latte Iced Coffee Drink Vanilla Latte</td>\n",
       "      <td>2.43</td>\n",
       "      <td>44100117428</td>\n",
       "      <td>44100117428</td>\n",
       "    </tr>\n",
       "    <tr>\n",
       "      <th>5</th>\n",
       "      <td>Triaminic</td>\n",
       "      <td>26</td>\n",
       "      <td>Triaminic Syrup Night Time Cold &amp; Cough Grape 4oz</td>\n",
       "      <td>0.98</td>\n",
       "      <td>300436344045</td>\n",
       "      <td>300436344045</td>\n",
       "    </tr>\n",
       "    <tr>\n",
       "      <th>6</th>\n",
       "      <td>Morton</td>\n",
       "      <td>27</td>\n",
       "      <td>Morton Kosher Salt Coarse</td>\n",
       "      <td>6.01</td>\n",
       "      <td>24600017008</td>\n",
       "      <td>24600017008</td>\n",
       "    </tr>\n",
       "    <tr>\n",
       "      <th>7</th>\n",
       "      <td>Usda Produce</td>\n",
       "      <td>28</td>\n",
       "      <td>Guava</td>\n",
       "      <td>7.52</td>\n",
       "      <td>719175900007</td>\n",
       "      <td>719175900007</td>\n",
       "    </tr>\n",
       "    <tr>\n",
       "      <th>8</th>\n",
       "      <td>Heinz</td>\n",
       "      <td>29</td>\n",
       "      <td>Heinz Tomato Ketchup - 2 Ct</td>\n",
       "      <td>8.65</td>\n",
       "      <td>13000001038</td>\n",
       "      <td>13000001038</td>\n",
       "    </tr>\n",
       "    <tr>\n",
       "      <th>9</th>\n",
       "      <td>Petmate</td>\n",
       "      <td>30</td>\n",
       "      <td>Petmate Booda Bones Steak Bacon &amp; Chicken Flav...</td>\n",
       "      <td>8.39</td>\n",
       "      <td>723503568678</td>\n",
       "      <td>723503568678</td>\n",
       "    </tr>\n",
       "    <tr>\n",
       "      <th>10</th>\n",
       "      <td>Zhenas Gypsy Tea</td>\n",
       "      <td>31</td>\n",
       "      <td>Zhenas Gypsy Tea Herbal Red Tea Sachets Fire L...</td>\n",
       "      <td>4.21</td>\n",
       "      <td>652790100226</td>\n",
       "      <td>652790100226</td>\n",
       "    </tr>\n",
       "    <tr>\n",
       "      <th>11</th>\n",
       "      <td>Barefoot</td>\n",
       "      <td>32</td>\n",
       "      <td>Barefoot Pinot Grigio  187</td>\n",
       "      <td>0.68</td>\n",
       "      <td>8500004528</td>\n",
       "      <td>8500004528</td>\n",
       "    </tr>\n",
       "    <tr>\n",
       "      <th>12</th>\n",
       "      <td>The First Years</td>\n",
       "      <td>33</td>\n",
       "      <td>Tomy The First Years Gumdrop Orthodontic Pacif...</td>\n",
       "      <td>6.52</td>\n",
       "      <td>71463060078</td>\n",
       "      <td>71463060078</td>\n",
       "    </tr>\n",
       "    <tr>\n",
       "      <th>13</th>\n",
       "      <td>Halls</td>\n",
       "      <td>34</td>\n",
       "      <td>Halls Menthol Cough Suppresant/oral Anesthetic...</td>\n",
       "      <td>4.17</td>\n",
       "      <td>312546628694</td>\n",
       "      <td>312546628694</td>\n",
       "    </tr>\n",
       "    <tr>\n",
       "      <th>14</th>\n",
       "      <td>Natures Way</td>\n",
       "      <td>35</td>\n",
       "      <td>Natures Way Forskohlii - 60 Ct</td>\n",
       "      <td>5.19</td>\n",
       "      <td>33674100066</td>\n",
       "      <td>33674100066</td>\n",
       "    </tr>\n",
       "    <tr>\n",
       "      <th>15</th>\n",
       "      <td>Deerfields Gluten Free</td>\n",
       "      <td>36</td>\n",
       "      <td>Rice Bran Gluten Free Dinner Rolls Plain</td>\n",
       "      <td>7.95</td>\n",
       "      <td>610358991525</td>\n",
       "      <td>610358991525</td>\n",
       "    </tr>\n",
       "    <tr>\n",
       "      <th>16</th>\n",
       "      <td>Nakano</td>\n",
       "      <td>37</td>\n",
       "      <td>Nakano Seasoned Rice Vinegar Original</td>\n",
       "      <td>9.59</td>\n",
       "      <td>73575295003</td>\n",
       "      <td>73575295003</td>\n",
       "    </tr>\n",
       "    <tr>\n",
       "      <th>17</th>\n",
       "      <td>Sundown Naturals</td>\n",
       "      <td>38</td>\n",
       "      <td>Sundown Naturals Essential Electrolytes Tropic...</td>\n",
       "      <td>3.45</td>\n",
       "      <td>30768540548</td>\n",
       "      <td>30768540548</td>\n",
       "    </tr>\n",
       "    <tr>\n",
       "      <th>18</th>\n",
       "      <td>Munchies</td>\n",
       "      <td>39</td>\n",
       "      <td>Munchies Sandwich Crackers Cheddar Cheese On G...</td>\n",
       "      <td>9.02</td>\n",
       "      <td>28400029254</td>\n",
       "      <td>28400029254</td>\n",
       "    </tr>\n",
       "    <tr>\n",
       "      <th>19</th>\n",
       "      <td>Amys</td>\n",
       "      <td>40</td>\n",
       "      <td>Amys Light &amp; Lean Spaghetti Italiano</td>\n",
       "      <td>0.60</td>\n",
       "      <td>42272008063</td>\n",
       "      <td>42272008063</td>\n",
       "    </tr>\n",
       "  </tbody>\n",
       "</table>\n",
       "</div>"
      ],
      "text/plain": [
       "                item_brand  item_id  \\\n",
       "0             Doctors Best       21   \n",
       "1            Betty Crocker       22   \n",
       "2                    Reese       23   \n",
       "3             Smart Living       24   \n",
       "4                     Hood       25   \n",
       "5                Triaminic       26   \n",
       "6                   Morton       27   \n",
       "7             Usda Produce       28   \n",
       "8                    Heinz       29   \n",
       "9                  Petmate       30   \n",
       "10        Zhenas Gypsy Tea       31   \n",
       "11                Barefoot       32   \n",
       "12         The First Years       33   \n",
       "13                   Halls       34   \n",
       "14             Natures Way       35   \n",
       "15  Deerfields Gluten Free       36   \n",
       "16                  Nakano       37   \n",
       "17        Sundown Naturals       38   \n",
       "18                Munchies       39   \n",
       "19                    Amys       40   \n",
       "\n",
       "                                            item_name  item_price  \\\n",
       "0   Doctors Best Best Curcumin C3 Complex 1000mg T...        8.09   \n",
       "1   Betty Crocker Twin Pack Real Potatoes Scallope...        7.31   \n",
       "2      Reese Mandarin Oranges Segments In Light Syrup        1.78   \n",
       "3                 Smart Living Charcoal Lighter Fluid        5.34   \n",
       "4          Hood Latte Iced Coffee Drink Vanilla Latte        2.43   \n",
       "5   Triaminic Syrup Night Time Cold & Cough Grape 4oz        0.98   \n",
       "6                           Morton Kosher Salt Coarse        6.01   \n",
       "7                                               Guava        7.52   \n",
       "8                         Heinz Tomato Ketchup - 2 Ct        8.65   \n",
       "9   Petmate Booda Bones Steak Bacon & Chicken Flav...        8.39   \n",
       "10  Zhenas Gypsy Tea Herbal Red Tea Sachets Fire L...        4.21   \n",
       "11                         Barefoot Pinot Grigio  187        0.68   \n",
       "12  Tomy The First Years Gumdrop Orthodontic Pacif...        6.52   \n",
       "13  Halls Menthol Cough Suppresant/oral Anesthetic...        4.17   \n",
       "14                     Natures Way Forskohlii - 60 Ct        5.19   \n",
       "15           Rice Bran Gluten Free Dinner Rolls Plain        7.95   \n",
       "16              Nakano Seasoned Rice Vinegar Original        9.59   \n",
       "17  Sundown Naturals Essential Electrolytes Tropic...        3.45   \n",
       "18  Munchies Sandwich Crackers Cheddar Cheese On G...        9.02   \n",
       "19               Amys Light & Lean Spaghetti Italiano        0.60   \n",
       "\n",
       "      item_upc12    item_upc14  \n",
       "0   753950001954  753950001954  \n",
       "1    16000288829   16000288829  \n",
       "2    70670009658   70670009658  \n",
       "3   688267084225  688267084225  \n",
       "4    44100117428   44100117428  \n",
       "5   300436344045  300436344045  \n",
       "6    24600017008   24600017008  \n",
       "7   719175900007  719175900007  \n",
       "8    13000001038   13000001038  \n",
       "9   723503568678  723503568678  \n",
       "10  652790100226  652790100226  \n",
       "11    8500004528    8500004528  \n",
       "12   71463060078   71463060078  \n",
       "13  312546628694  312546628694  \n",
       "14   33674100066   33674100066  \n",
       "15  610358991525  610358991525  \n",
       "16   73575295003   73575295003  \n",
       "17   30768540548   30768540548  \n",
       "18   28400029254   28400029254  \n",
       "19   42272008063   42272008063  "
      ]
     },
     "execution_count": 10,
     "metadata": {},
     "output_type": "execute_result"
    }
   ],
   "source": [
    "items_df"
   ]
  },
  {
   "cell_type": "code",
   "execution_count": 11,
   "metadata": {},
   "outputs": [
    {
     "data": {
      "text/plain": [
       "3"
      ]
     },
     "execution_count": 11,
     "metadata": {},
     "output_type": "execute_result"
    }
   ],
   "source": [
    "data['payload']['max_page']"
   ]
  },
  {
   "cell_type": "code",
   "execution_count": 12,
   "metadata": {},
   "outputs": [],
   "source": [
    "url = ' https://python.zach.lol/api/v1/items'\n",
    "items_list = []\n",
    "response = requests.get(url)\n",
    "data = response.json()\n",
    "n = data['payload']['max_page']\n",
    "\n",
    "for i in range(1, n + 1):\n",
    "    new_url = url + '?page=' + str(i)\n",
    "    response = requests.get(new_url)\n",
    "    data = response.json()\n",
    "    page_items = data['payload']['items']\n",
    "    items_list += page_items\n",
    "    \n",
    "items_df = pd.DataFrame(items_list)\n"
   ]
  },
  {
   "cell_type": "code",
   "execution_count": 13,
   "metadata": {},
   "outputs": [
    {
     "data": {
      "text/plain": [
       "(50, 6)"
      ]
     },
     "execution_count": 13,
     "metadata": {},
     "output_type": "execute_result"
    }
   ],
   "source": [
    "items_df.shape"
   ]
  },
  {
   "cell_type": "code",
   "execution_count": 14,
   "metadata": {},
   "outputs": [
    {
     "name": "stdout",
     "output_type": "stream",
     "text": [
      "\n",
      "The API accepts GET requests for all endpoints, where endpoints are prefixed\n",
      "with\n",
      "\n",
      "    /api/{version}\n",
      "\n",
      "Where version is \"v1\"\n",
      "\n",
      "Valid endpoints:\n",
      "\n",
      "- /stores[/{store_id}]\n",
      "- /items[/{item_id}]\n",
      "- /sales[/{sale_id}]\n",
      "\n",
      "All endpoints accept a `page` parameter that can be used to navigate through\n",
      "the results.\n",
      "\n"
     ]
    }
   ],
   "source": [
    "base_url = 'https://python.zach.lol'\n",
    "response = requests.get(base_url + '/documentation')\n",
    "print(response.json()['payload'])"
   ]
  },
  {
   "cell_type": "markdown",
   "metadata": {},
   "source": [
    "### 2. Do the same thing, but for stores (https://python.zach.lol/api/v1/stores)"
   ]
  },
  {
   "cell_type": "code",
   "execution_count": 64,
   "metadata": {},
   "outputs": [
    {
     "data": {
      "text/plain": [
       "{'payload': {'max_page': 1,\n",
       "  'next_page': None,\n",
       "  'page': 1,\n",
       "  'previous_page': None,\n",
       "  'stores': [{'store_address': '12125 Alamo Ranch Pkwy',\n",
       "    'store_city': 'San Antonio',\n",
       "    'store_id': 1,\n",
       "    'store_state': 'TX',\n",
       "    'store_zipcode': '78253'},\n",
       "   {'store_address': '9255 FM 471 West',\n",
       "    'store_city': 'San Antonio',\n",
       "    'store_id': 2,\n",
       "    'store_state': 'TX',\n",
       "    'store_zipcode': '78251'},\n",
       "   {'store_address': '2118 Fredericksburg Rdj',\n",
       "    'store_city': 'San Antonio',\n",
       "    'store_id': 3,\n",
       "    'store_state': 'TX',\n",
       "    'store_zipcode': '78201'},\n",
       "   {'store_address': '516 S Flores St',\n",
       "    'store_city': 'San Antonio',\n",
       "    'store_id': 4,\n",
       "    'store_state': 'TX',\n",
       "    'store_zipcode': '78204'},\n",
       "   {'store_address': '1520 Austin Hwy',\n",
       "    'store_city': 'San Antonio',\n",
       "    'store_id': 5,\n",
       "    'store_state': 'TX',\n",
       "    'store_zipcode': '78218'},\n",
       "   {'store_address': '1015 S WW White Rd',\n",
       "    'store_city': 'San Antonio',\n",
       "    'store_id': 6,\n",
       "    'store_state': 'TX',\n",
       "    'store_zipcode': '78220'},\n",
       "   {'store_address': '12018 Perrin Beitel Rd',\n",
       "    'store_city': 'San Antonio',\n",
       "    'store_id': 7,\n",
       "    'store_state': 'TX',\n",
       "    'store_zipcode': '78217'},\n",
       "   {'store_address': '15000 San Pedro Ave',\n",
       "    'store_city': 'San Antonio',\n",
       "    'store_id': 8,\n",
       "    'store_state': 'TX',\n",
       "    'store_zipcode': '78232'},\n",
       "   {'store_address': '735 SW Military Dr',\n",
       "    'store_city': 'San Antonio',\n",
       "    'store_id': 9,\n",
       "    'store_state': 'TX',\n",
       "    'store_zipcode': '78221'},\n",
       "   {'store_address': '8503 NW Military Hwy',\n",
       "    'store_city': 'San Antonio',\n",
       "    'store_id': 10,\n",
       "    'store_state': 'TX',\n",
       "    'store_zipcode': '78231'}]},\n",
       " 'status': 'ok'}"
      ]
     },
     "execution_count": 64,
     "metadata": {},
     "output_type": "execute_result"
    }
   ],
   "source": [
    "response = requests.get('https://python.zach.lol/api/v1/stores')\n",
    "data = response.json()\n",
    "data"
   ]
  },
  {
   "cell_type": "code",
   "execution_count": 65,
   "metadata": {},
   "outputs": [
    {
     "data": {
      "text/plain": [
       "[{'store_address': '12125 Alamo Ranch Pkwy',\n",
       "  'store_city': 'San Antonio',\n",
       "  'store_id': 1,\n",
       "  'store_state': 'TX',\n",
       "  'store_zipcode': '78253'},\n",
       " {'store_address': '9255 FM 471 West',\n",
       "  'store_city': 'San Antonio',\n",
       "  'store_id': 2,\n",
       "  'store_state': 'TX',\n",
       "  'store_zipcode': '78251'},\n",
       " {'store_address': '2118 Fredericksburg Rdj',\n",
       "  'store_city': 'San Antonio',\n",
       "  'store_id': 3,\n",
       "  'store_state': 'TX',\n",
       "  'store_zipcode': '78201'},\n",
       " {'store_address': '516 S Flores St',\n",
       "  'store_city': 'San Antonio',\n",
       "  'store_id': 4,\n",
       "  'store_state': 'TX',\n",
       "  'store_zipcode': '78204'},\n",
       " {'store_address': '1520 Austin Hwy',\n",
       "  'store_city': 'San Antonio',\n",
       "  'store_id': 5,\n",
       "  'store_state': 'TX',\n",
       "  'store_zipcode': '78218'},\n",
       " {'store_address': '1015 S WW White Rd',\n",
       "  'store_city': 'San Antonio',\n",
       "  'store_id': 6,\n",
       "  'store_state': 'TX',\n",
       "  'store_zipcode': '78220'},\n",
       " {'store_address': '12018 Perrin Beitel Rd',\n",
       "  'store_city': 'San Antonio',\n",
       "  'store_id': 7,\n",
       "  'store_state': 'TX',\n",
       "  'store_zipcode': '78217'},\n",
       " {'store_address': '15000 San Pedro Ave',\n",
       "  'store_city': 'San Antonio',\n",
       "  'store_id': 8,\n",
       "  'store_state': 'TX',\n",
       "  'store_zipcode': '78232'},\n",
       " {'store_address': '735 SW Military Dr',\n",
       "  'store_city': 'San Antonio',\n",
       "  'store_id': 9,\n",
       "  'store_state': 'TX',\n",
       "  'store_zipcode': '78221'},\n",
       " {'store_address': '8503 NW Military Hwy',\n",
       "  'store_city': 'San Antonio',\n",
       "  'store_id': 10,\n",
       "  'store_state': 'TX',\n",
       "  'store_zipcode': '78231'}]"
      ]
     },
     "execution_count": 65,
     "metadata": {},
     "output_type": "execute_result"
    }
   ],
   "source": [
    "data['payload']['stores']"
   ]
  },
  {
   "cell_type": "code",
   "execution_count": 17,
   "metadata": {},
   "outputs": [],
   "source": [
    "url = 'https://python.zach.lol/api/v1/stores'\n",
    "stores_list = []\n",
    "response = requests.get(url)\n",
    "data = response.json()\n",
    "n = data['payload']['max_page']\n",
    "for i in range(1, n+1):\n",
    "    new_url = url+\"?page=\"+str(i)\n",
    "    response = requests.get(new_url)\n",
    "    data = response.json()\n",
    "    page_stores = data['payload']['stores']\n",
    "    stores_list += page_stores\n",
    "\n",
    "stores_df = pd.DataFrame(stores_list)"
   ]
  },
  {
   "cell_type": "code",
   "execution_count": 18,
   "metadata": {},
   "outputs": [
    {
     "data": {
      "text/html": [
       "<div>\n",
       "<style scoped>\n",
       "    .dataframe tbody tr th:only-of-type {\n",
       "        vertical-align: middle;\n",
       "    }\n",
       "\n",
       "    .dataframe tbody tr th {\n",
       "        vertical-align: top;\n",
       "    }\n",
       "\n",
       "    .dataframe thead th {\n",
       "        text-align: right;\n",
       "    }\n",
       "</style>\n",
       "<table border=\"1\" class=\"dataframe\">\n",
       "  <thead>\n",
       "    <tr style=\"text-align: right;\">\n",
       "      <th></th>\n",
       "      <th>store_address</th>\n",
       "      <th>store_city</th>\n",
       "      <th>store_id</th>\n",
       "      <th>store_state</th>\n",
       "      <th>store_zipcode</th>\n",
       "    </tr>\n",
       "  </thead>\n",
       "  <tbody>\n",
       "    <tr>\n",
       "      <th>0</th>\n",
       "      <td>12125 Alamo Ranch Pkwy</td>\n",
       "      <td>San Antonio</td>\n",
       "      <td>1</td>\n",
       "      <td>TX</td>\n",
       "      <td>78253</td>\n",
       "    </tr>\n",
       "    <tr>\n",
       "      <th>1</th>\n",
       "      <td>9255 FM 471 West</td>\n",
       "      <td>San Antonio</td>\n",
       "      <td>2</td>\n",
       "      <td>TX</td>\n",
       "      <td>78251</td>\n",
       "    </tr>\n",
       "    <tr>\n",
       "      <th>2</th>\n",
       "      <td>2118 Fredericksburg Rdj</td>\n",
       "      <td>San Antonio</td>\n",
       "      <td>3</td>\n",
       "      <td>TX</td>\n",
       "      <td>78201</td>\n",
       "    </tr>\n",
       "    <tr>\n",
       "      <th>3</th>\n",
       "      <td>516 S Flores St</td>\n",
       "      <td>San Antonio</td>\n",
       "      <td>4</td>\n",
       "      <td>TX</td>\n",
       "      <td>78204</td>\n",
       "    </tr>\n",
       "    <tr>\n",
       "      <th>4</th>\n",
       "      <td>1520 Austin Hwy</td>\n",
       "      <td>San Antonio</td>\n",
       "      <td>5</td>\n",
       "      <td>TX</td>\n",
       "      <td>78218</td>\n",
       "    </tr>\n",
       "    <tr>\n",
       "      <th>5</th>\n",
       "      <td>1015 S WW White Rd</td>\n",
       "      <td>San Antonio</td>\n",
       "      <td>6</td>\n",
       "      <td>TX</td>\n",
       "      <td>78220</td>\n",
       "    </tr>\n",
       "    <tr>\n",
       "      <th>6</th>\n",
       "      <td>12018 Perrin Beitel Rd</td>\n",
       "      <td>San Antonio</td>\n",
       "      <td>7</td>\n",
       "      <td>TX</td>\n",
       "      <td>78217</td>\n",
       "    </tr>\n",
       "    <tr>\n",
       "      <th>7</th>\n",
       "      <td>15000 San Pedro Ave</td>\n",
       "      <td>San Antonio</td>\n",
       "      <td>8</td>\n",
       "      <td>TX</td>\n",
       "      <td>78232</td>\n",
       "    </tr>\n",
       "    <tr>\n",
       "      <th>8</th>\n",
       "      <td>735 SW Military Dr</td>\n",
       "      <td>San Antonio</td>\n",
       "      <td>9</td>\n",
       "      <td>TX</td>\n",
       "      <td>78221</td>\n",
       "    </tr>\n",
       "    <tr>\n",
       "      <th>9</th>\n",
       "      <td>8503 NW Military Hwy</td>\n",
       "      <td>San Antonio</td>\n",
       "      <td>10</td>\n",
       "      <td>TX</td>\n",
       "      <td>78231</td>\n",
       "    </tr>\n",
       "  </tbody>\n",
       "</table>\n",
       "</div>"
      ],
      "text/plain": [
       "             store_address   store_city  store_id store_state store_zipcode\n",
       "0   12125 Alamo Ranch Pkwy  San Antonio         1          TX         78253\n",
       "1         9255 FM 471 West  San Antonio         2          TX         78251\n",
       "2  2118 Fredericksburg Rdj  San Antonio         3          TX         78201\n",
       "3          516 S Flores St  San Antonio         4          TX         78204\n",
       "4          1520 Austin Hwy  San Antonio         5          TX         78218\n",
       "5       1015 S WW White Rd  San Antonio         6          TX         78220\n",
       "6   12018 Perrin Beitel Rd  San Antonio         7          TX         78217\n",
       "7      15000 San Pedro Ave  San Antonio         8          TX         78232\n",
       "8       735 SW Military Dr  San Antonio         9          TX         78221\n",
       "9     8503 NW Military Hwy  San Antonio        10          TX         78231"
      ]
     },
     "execution_count": 18,
     "metadata": {},
     "output_type": "execute_result"
    }
   ],
   "source": [
    "stores_df"
   ]
  },
  {
   "cell_type": "markdown",
   "metadata": {},
   "source": [
    "### 3.Extract the data for sales (https://python.zach.lol/api/v1/sales). There are a lot of pages of data here, so your code will need to be a little more complex. Your code should continue fetching data from the next page until all of the data is extracted."
   ]
  },
  {
   "cell_type": "code",
   "execution_count": 19,
   "metadata": {},
   "outputs": [],
   "source": [
    "sales_list = []\n",
    "response = requests.get('https://python.zach.lol/api/v1/sales')"
   ]
  },
  {
   "cell_type": "code",
   "execution_count": 20,
   "metadata": {},
   "outputs": [],
   "source": [
    "data = response.json()"
   ]
  },
  {
   "cell_type": "code",
   "execution_count": 21,
   "metadata": {},
   "outputs": [],
   "source": [
    "n = data['payload']['max_page']"
   ]
  },
  {
   "cell_type": "code",
   "execution_count": 22,
   "metadata": {},
   "outputs": [],
   "source": [
    "url = 'https://python.zach.lol/api/v1/sales'\n",
    "for i in range(1, n+1):\n",
    "    new_url = url+\"?page=\"+str(i)\n",
    "    response = requests.get(new_url)\n",
    "    data = response.json()\n",
    "    page_sales = data['payload']['sales']\n",
    "    sales_list += page_sales"
   ]
  },
  {
   "cell_type": "code",
   "execution_count": 92,
   "metadata": {},
   "outputs": [
    {
     "data": {
      "text/html": [
       "<div>\n",
       "<style scoped>\n",
       "    .dataframe tbody tr th:only-of-type {\n",
       "        vertical-align: middle;\n",
       "    }\n",
       "\n",
       "    .dataframe tbody tr th {\n",
       "        vertical-align: top;\n",
       "    }\n",
       "\n",
       "    .dataframe thead th {\n",
       "        text-align: right;\n",
       "    }\n",
       "</style>\n",
       "<table border=\"1\" class=\"dataframe\">\n",
       "  <thead>\n",
       "    <tr style=\"text-align: right;\">\n",
       "      <th></th>\n",
       "      <th>item</th>\n",
       "      <th>sale_amount</th>\n",
       "      <th>sale_date</th>\n",
       "      <th>sale_id</th>\n",
       "      <th>store</th>\n",
       "    </tr>\n",
       "  </thead>\n",
       "  <tbody>\n",
       "    <tr>\n",
       "      <th>0</th>\n",
       "      <td>1</td>\n",
       "      <td>13.0</td>\n",
       "      <td>Tue, 01 Jan 2013 00:00:00 GMT</td>\n",
       "      <td>1</td>\n",
       "      <td>1</td>\n",
       "    </tr>\n",
       "    <tr>\n",
       "      <th>1</th>\n",
       "      <td>1</td>\n",
       "      <td>11.0</td>\n",
       "      <td>Wed, 02 Jan 2013 00:00:00 GMT</td>\n",
       "      <td>2</td>\n",
       "      <td>1</td>\n",
       "    </tr>\n",
       "    <tr>\n",
       "      <th>2</th>\n",
       "      <td>1</td>\n",
       "      <td>14.0</td>\n",
       "      <td>Thu, 03 Jan 2013 00:00:00 GMT</td>\n",
       "      <td>3</td>\n",
       "      <td>1</td>\n",
       "    </tr>\n",
       "    <tr>\n",
       "      <th>3</th>\n",
       "      <td>1</td>\n",
       "      <td>13.0</td>\n",
       "      <td>Fri, 04 Jan 2013 00:00:00 GMT</td>\n",
       "      <td>4</td>\n",
       "      <td>1</td>\n",
       "    </tr>\n",
       "    <tr>\n",
       "      <th>4</th>\n",
       "      <td>1</td>\n",
       "      <td>10.0</td>\n",
       "      <td>Sat, 05 Jan 2013 00:00:00 GMT</td>\n",
       "      <td>5</td>\n",
       "      <td>1</td>\n",
       "    </tr>\n",
       "    <tr>\n",
       "      <th>...</th>\n",
       "      <td>...</td>\n",
       "      <td>...</td>\n",
       "      <td>...</td>\n",
       "      <td>...</td>\n",
       "      <td>...</td>\n",
       "    </tr>\n",
       "    <tr>\n",
       "      <th>912995</th>\n",
       "      <td>50</td>\n",
       "      <td>63.0</td>\n",
       "      <td>Wed, 27 Dec 2017 00:00:00 GMT</td>\n",
       "      <td>912996</td>\n",
       "      <td>10</td>\n",
       "    </tr>\n",
       "    <tr>\n",
       "      <th>912996</th>\n",
       "      <td>50</td>\n",
       "      <td>59.0</td>\n",
       "      <td>Thu, 28 Dec 2017 00:00:00 GMT</td>\n",
       "      <td>912997</td>\n",
       "      <td>10</td>\n",
       "    </tr>\n",
       "    <tr>\n",
       "      <th>912997</th>\n",
       "      <td>50</td>\n",
       "      <td>74.0</td>\n",
       "      <td>Fri, 29 Dec 2017 00:00:00 GMT</td>\n",
       "      <td>912998</td>\n",
       "      <td>10</td>\n",
       "    </tr>\n",
       "    <tr>\n",
       "      <th>912998</th>\n",
       "      <td>50</td>\n",
       "      <td>62.0</td>\n",
       "      <td>Sat, 30 Dec 2017 00:00:00 GMT</td>\n",
       "      <td>912999</td>\n",
       "      <td>10</td>\n",
       "    </tr>\n",
       "    <tr>\n",
       "      <th>912999</th>\n",
       "      <td>50</td>\n",
       "      <td>82.0</td>\n",
       "      <td>Sun, 31 Dec 2017 00:00:00 GMT</td>\n",
       "      <td>913000</td>\n",
       "      <td>10</td>\n",
       "    </tr>\n",
       "  </tbody>\n",
       "</table>\n",
       "<p>913000 rows × 5 columns</p>\n",
       "</div>"
      ],
      "text/plain": [
       "        item  sale_amount                      sale_date  sale_id  store\n",
       "0          1         13.0  Tue, 01 Jan 2013 00:00:00 GMT        1      1\n",
       "1          1         11.0  Wed, 02 Jan 2013 00:00:00 GMT        2      1\n",
       "2          1         14.0  Thu, 03 Jan 2013 00:00:00 GMT        3      1\n",
       "3          1         13.0  Fri, 04 Jan 2013 00:00:00 GMT        4      1\n",
       "4          1         10.0  Sat, 05 Jan 2013 00:00:00 GMT        5      1\n",
       "...      ...          ...                            ...      ...    ...\n",
       "912995    50         63.0  Wed, 27 Dec 2017 00:00:00 GMT   912996     10\n",
       "912996    50         59.0  Thu, 28 Dec 2017 00:00:00 GMT   912997     10\n",
       "912997    50         74.0  Fri, 29 Dec 2017 00:00:00 GMT   912998     10\n",
       "912998    50         62.0  Sat, 30 Dec 2017 00:00:00 GMT   912999     10\n",
       "912999    50         82.0  Sun, 31 Dec 2017 00:00:00 GMT   913000     10\n",
       "\n",
       "[913000 rows x 5 columns]"
      ]
     },
     "execution_count": 92,
     "metadata": {},
     "output_type": "execute_result"
    }
   ],
   "source": [
    "sales_df = pd.DataFrame(sales_list)\n",
    "sales_df"
   ]
  },
  {
   "cell_type": "markdown",
   "metadata": {},
   "source": [
    "### 4. Save the data in your files to local csv files so that it will be faster to access in the future."
   ]
  },
  {
   "cell_type": "code",
   "execution_count": 24,
   "metadata": {},
   "outputs": [],
   "source": [
    "items_df.to_csv('items.csv', index = False)\n",
    "stores_df.to_csv('stores.csv', index = False)\n",
    "sales_df.to_csv('sales.csv', index = False)"
   ]
  },
  {
   "cell_type": "markdown",
   "metadata": {},
   "source": [
    "### 5. Combine the data from your three separate dataframes into one large dataframe."
   ]
  },
  {
   "cell_type": "code",
   "execution_count": 37,
   "metadata": {},
   "outputs": [],
   "source": [
    "sales_df = sales_df.rename(columns = {'item':'item_id'})"
   ]
  },
  {
   "cell_type": "code",
   "execution_count": 69,
   "metadata": {},
   "outputs": [],
   "source": [
    "df = sales_df.merge(items_df, on = 'item_id', how = 'left')"
   ]
  },
  {
   "cell_type": "code",
   "execution_count": 70,
   "metadata": {},
   "outputs": [],
   "source": [
    "df = df.rename(columns = {'store':'store_id'})"
   ]
  },
  {
   "cell_type": "code",
   "execution_count": 71,
   "metadata": {},
   "outputs": [],
   "source": [
    "df = df.merge(stores_df ,on = 'store_id', how = 'left')"
   ]
  },
  {
   "cell_type": "code",
   "execution_count": 72,
   "metadata": {},
   "outputs": [
    {
     "name": "stdout",
     "output_type": "stream",
     "text": [
      "<class 'pandas.core.frame.DataFrame'>\n",
      "Int64Index: 913000 entries, 0 to 912999\n",
      "Data columns (total 14 columns):\n",
      " #   Column         Non-Null Count   Dtype  \n",
      "---  ------         --------------   -----  \n",
      " 0   item_id        913000 non-null  int64  \n",
      " 1   sale_amount    913000 non-null  float64\n",
      " 2   sale_date      913000 non-null  object \n",
      " 3   sale_id        913000 non-null  int64  \n",
      " 4   store_id       913000 non-null  int64  \n",
      " 5   item_brand     913000 non-null  object \n",
      " 6   item_name      913000 non-null  object \n",
      " 7   item_price     913000 non-null  float64\n",
      " 8   item_upc12     913000 non-null  object \n",
      " 9   item_upc14     913000 non-null  object \n",
      " 10  store_address  913000 non-null  object \n",
      " 11  store_city     913000 non-null  object \n",
      " 12  store_state    913000 non-null  object \n",
      " 13  store_zipcode  913000 non-null  object \n",
      "dtypes: float64(2), int64(3), object(9)\n",
      "memory usage: 104.5+ MB\n"
     ]
    }
   ],
   "source": [
    "df.info()"
   ]
  },
  {
   "cell_type": "code",
   "execution_count": 73,
   "metadata": {},
   "outputs": [],
   "source": [
    "df.to_csv('store_item_sales.csv')"
   ]
  },
  {
   "cell_type": "markdown",
   "metadata": {},
   "source": [
    "### 6. Acquire the Open Power Systems Data for Germany, which has been rapidly expanding its renewable energy production in recent years. The data set includes country-wide totals of electricity consumption, wind power production, and solar power production for 2006-2017. You can get the data here: https://raw.githubusercontent.com/jenfly/opsd/master/opsd_germany_daily.csv"
   ]
  },
  {
   "cell_type": "code",
   "execution_count": 57,
   "metadata": {},
   "outputs": [],
   "source": [
    "url = 'https://raw.githubusercontent.com/jenfly/opsd/master/opsd_germany_daily.csv'\n",
    "download = requests.get(url).content"
   ]
  },
  {
   "cell_type": "code",
   "execution_count": 60,
   "metadata": {},
   "outputs": [],
   "source": [
    "power_df = pd.read_csv(io.StringIO(download.decode('utf-8')))"
   ]
  },
  {
   "cell_type": "code",
   "execution_count": 63,
   "metadata": {},
   "outputs": [],
   "source": [
    "power_df.to_csv('power.csv')"
   ]
  },
  {
   "cell_type": "markdown",
   "metadata": {},
   "source": [
    "### 7. Make sure all the work that you have done above is reproducible. That is, you should put the code above into separate functions in the acquire.py file and be able to re-run the functions and get the same data."
   ]
  },
  {
   "cell_type": "code",
   "execution_count": 87,
   "metadata": {},
   "outputs": [],
   "source": [
    "def pull_zach_data(url, endpoint, filename):\n",
    "    '''Pulls api data with target endpoints'''\n",
    "    if os.path.isfile(filename):\n",
    "        df = pd.read_csv(filename, index_col=0)\n",
    "        return df\n",
    "    else:\n",
    "        data_list = []\n",
    "        response = requests.get(url)\n",
    "        data = response.json()\n",
    "        n = data['payload']['max_page']\n",
    "        for i in range(1, n+1):\n",
    "            new_url = url+\"?page=\"+str(i)\n",
    "            response = requests.get(new_url)\n",
    "            data = response.json()\n",
    "            page_stores = data['payload'][endpoint]\n",
    "            data_list += page_stores\n",
    "            df = pd.DataFrame(data_list)\n",
    "        df.to_csv(filename)\n",
    "        return df"
   ]
  },
  {
   "cell_type": "code",
   "execution_count": 81,
   "metadata": {},
   "outputs": [
    {
     "data": {
      "text/html": [
       "<div>\n",
       "<style scoped>\n",
       "    .dataframe tbody tr th:only-of-type {\n",
       "        vertical-align: middle;\n",
       "    }\n",
       "\n",
       "    .dataframe tbody tr th {\n",
       "        vertical-align: top;\n",
       "    }\n",
       "\n",
       "    .dataframe thead th {\n",
       "        text-align: right;\n",
       "    }\n",
       "</style>\n",
       "<table border=\"1\" class=\"dataframe\">\n",
       "  <thead>\n",
       "    <tr style=\"text-align: right;\">\n",
       "      <th></th>\n",
       "      <th>store_address</th>\n",
       "      <th>store_city</th>\n",
       "      <th>store_id</th>\n",
       "      <th>store_state</th>\n",
       "      <th>store_zipcode</th>\n",
       "    </tr>\n",
       "  </thead>\n",
       "  <tbody>\n",
       "    <tr>\n",
       "      <th>0</th>\n",
       "      <td>12125 Alamo Ranch Pkwy</td>\n",
       "      <td>San Antonio</td>\n",
       "      <td>1</td>\n",
       "      <td>TX</td>\n",
       "      <td>78253</td>\n",
       "    </tr>\n",
       "    <tr>\n",
       "      <th>1</th>\n",
       "      <td>9255 FM 471 West</td>\n",
       "      <td>San Antonio</td>\n",
       "      <td>2</td>\n",
       "      <td>TX</td>\n",
       "      <td>78251</td>\n",
       "    </tr>\n",
       "    <tr>\n",
       "      <th>2</th>\n",
       "      <td>2118 Fredericksburg Rdj</td>\n",
       "      <td>San Antonio</td>\n",
       "      <td>3</td>\n",
       "      <td>TX</td>\n",
       "      <td>78201</td>\n",
       "    </tr>\n",
       "    <tr>\n",
       "      <th>3</th>\n",
       "      <td>516 S Flores St</td>\n",
       "      <td>San Antonio</td>\n",
       "      <td>4</td>\n",
       "      <td>TX</td>\n",
       "      <td>78204</td>\n",
       "    </tr>\n",
       "    <tr>\n",
       "      <th>4</th>\n",
       "      <td>1520 Austin Hwy</td>\n",
       "      <td>San Antonio</td>\n",
       "      <td>5</td>\n",
       "      <td>TX</td>\n",
       "      <td>78218</td>\n",
       "    </tr>\n",
       "    <tr>\n",
       "      <th>5</th>\n",
       "      <td>1015 S WW White Rd</td>\n",
       "      <td>San Antonio</td>\n",
       "      <td>6</td>\n",
       "      <td>TX</td>\n",
       "      <td>78220</td>\n",
       "    </tr>\n",
       "    <tr>\n",
       "      <th>6</th>\n",
       "      <td>12018 Perrin Beitel Rd</td>\n",
       "      <td>San Antonio</td>\n",
       "      <td>7</td>\n",
       "      <td>TX</td>\n",
       "      <td>78217</td>\n",
       "    </tr>\n",
       "    <tr>\n",
       "      <th>7</th>\n",
       "      <td>15000 San Pedro Ave</td>\n",
       "      <td>San Antonio</td>\n",
       "      <td>8</td>\n",
       "      <td>TX</td>\n",
       "      <td>78232</td>\n",
       "    </tr>\n",
       "    <tr>\n",
       "      <th>8</th>\n",
       "      <td>735 SW Military Dr</td>\n",
       "      <td>San Antonio</td>\n",
       "      <td>9</td>\n",
       "      <td>TX</td>\n",
       "      <td>78221</td>\n",
       "    </tr>\n",
       "    <tr>\n",
       "      <th>9</th>\n",
       "      <td>8503 NW Military Hwy</td>\n",
       "      <td>San Antonio</td>\n",
       "      <td>10</td>\n",
       "      <td>TX</td>\n",
       "      <td>78231</td>\n",
       "    </tr>\n",
       "  </tbody>\n",
       "</table>\n",
       "</div>"
      ],
      "text/plain": [
       "             store_address   store_city  store_id store_state store_zipcode\n",
       "0   12125 Alamo Ranch Pkwy  San Antonio         1          TX         78253\n",
       "1         9255 FM 471 West  San Antonio         2          TX         78251\n",
       "2  2118 Fredericksburg Rdj  San Antonio         3          TX         78201\n",
       "3          516 S Flores St  San Antonio         4          TX         78204\n",
       "4          1520 Austin Hwy  San Antonio         5          TX         78218\n",
       "5       1015 S WW White Rd  San Antonio         6          TX         78220\n",
       "6   12018 Perrin Beitel Rd  San Antonio         7          TX         78217\n",
       "7      15000 San Pedro Ave  San Antonio         8          TX         78232\n",
       "8       735 SW Military Dr  San Antonio         9          TX         78221\n",
       "9     8503 NW Military Hwy  San Antonio        10          TX         78231"
      ]
     },
     "execution_count": 81,
     "metadata": {},
     "output_type": "execute_result"
    }
   ],
   "source": [
    "pull_zach_data('https://python.zach.lol/api/v1/stores', 'stores', 'stores.csv')"
   ]
  },
  {
   "cell_type": "code",
   "execution_count": 82,
   "metadata": {},
   "outputs": [],
   "source": [
    "def store_item_sales(sales_df, item_df, store_df):\n",
    "    sales_df = sales_df.rename(columns = {'item':'item_id'})\n",
    "    df = sales_df.merge(items_df, on = 'item_id', how = 'left')\n",
    "    df = df.rename(columns = {'store':'store_id'})\n",
    "    store_item_sales_df = df.merge(stores_df ,on = 'store_id', how = 'left')\n",
    "    return store_item_sales_df"
   ]
  },
  {
   "cell_type": "code",
   "execution_count": 86,
   "metadata": {},
   "outputs": [],
   "source": [
    "def get_github_csv(url, filename):\n",
    "    if os.path.isfile(filename):\n",
    "        df = pd.read_csv(filename, index_col=0)\n",
    "        return df\n",
    "    else:\n",
    "        download = requests.get(url).content\n",
    "        df = pd.read_csv(io.StringIO(download.decode('utf-8')))\n",
    "        df.to_csv(filename)\n",
    "        return df"
   ]
  },
  {
   "cell_type": "code",
   "execution_count": 90,
   "metadata": {},
   "outputs": [],
   "source": [
    "import acquire as ac"
   ]
  },
  {
   "cell_type": "code",
   "execution_count": 91,
   "metadata": {},
   "outputs": [
    {
     "data": {
      "text/html": [
       "<div>\n",
       "<style scoped>\n",
       "    .dataframe tbody tr th:only-of-type {\n",
       "        vertical-align: middle;\n",
       "    }\n",
       "\n",
       "    .dataframe tbody tr th {\n",
       "        vertical-align: top;\n",
       "    }\n",
       "\n",
       "    .dataframe thead th {\n",
       "        text-align: right;\n",
       "    }\n",
       "</style>\n",
       "<table border=\"1\" class=\"dataframe\">\n",
       "  <thead>\n",
       "    <tr style=\"text-align: right;\">\n",
       "      <th></th>\n",
       "      <th>Date</th>\n",
       "      <th>Consumption</th>\n",
       "      <th>Wind</th>\n",
       "      <th>Solar</th>\n",
       "      <th>Wind+Solar</th>\n",
       "    </tr>\n",
       "  </thead>\n",
       "  <tbody>\n",
       "    <tr>\n",
       "      <th>0</th>\n",
       "      <td>2006-01-01</td>\n",
       "      <td>1069.18400</td>\n",
       "      <td>NaN</td>\n",
       "      <td>NaN</td>\n",
       "      <td>NaN</td>\n",
       "    </tr>\n",
       "    <tr>\n",
       "      <th>1</th>\n",
       "      <td>2006-01-02</td>\n",
       "      <td>1380.52100</td>\n",
       "      <td>NaN</td>\n",
       "      <td>NaN</td>\n",
       "      <td>NaN</td>\n",
       "    </tr>\n",
       "    <tr>\n",
       "      <th>2</th>\n",
       "      <td>2006-01-03</td>\n",
       "      <td>1442.53300</td>\n",
       "      <td>NaN</td>\n",
       "      <td>NaN</td>\n",
       "      <td>NaN</td>\n",
       "    </tr>\n",
       "    <tr>\n",
       "      <th>3</th>\n",
       "      <td>2006-01-04</td>\n",
       "      <td>1457.21700</td>\n",
       "      <td>NaN</td>\n",
       "      <td>NaN</td>\n",
       "      <td>NaN</td>\n",
       "    </tr>\n",
       "    <tr>\n",
       "      <th>4</th>\n",
       "      <td>2006-01-05</td>\n",
       "      <td>1477.13100</td>\n",
       "      <td>NaN</td>\n",
       "      <td>NaN</td>\n",
       "      <td>NaN</td>\n",
       "    </tr>\n",
       "    <tr>\n",
       "      <th>...</th>\n",
       "      <td>...</td>\n",
       "      <td>...</td>\n",
       "      <td>...</td>\n",
       "      <td>...</td>\n",
       "      <td>...</td>\n",
       "    </tr>\n",
       "    <tr>\n",
       "      <th>4378</th>\n",
       "      <td>2017-12-27</td>\n",
       "      <td>1263.94091</td>\n",
       "      <td>394.507</td>\n",
       "      <td>16.530</td>\n",
       "      <td>411.037</td>\n",
       "    </tr>\n",
       "    <tr>\n",
       "      <th>4379</th>\n",
       "      <td>2017-12-28</td>\n",
       "      <td>1299.86398</td>\n",
       "      <td>506.424</td>\n",
       "      <td>14.162</td>\n",
       "      <td>520.586</td>\n",
       "    </tr>\n",
       "    <tr>\n",
       "      <th>4380</th>\n",
       "      <td>2017-12-29</td>\n",
       "      <td>1295.08753</td>\n",
       "      <td>584.277</td>\n",
       "      <td>29.854</td>\n",
       "      <td>614.131</td>\n",
       "    </tr>\n",
       "    <tr>\n",
       "      <th>4381</th>\n",
       "      <td>2017-12-30</td>\n",
       "      <td>1215.44897</td>\n",
       "      <td>721.247</td>\n",
       "      <td>7.467</td>\n",
       "      <td>728.714</td>\n",
       "    </tr>\n",
       "    <tr>\n",
       "      <th>4382</th>\n",
       "      <td>2017-12-31</td>\n",
       "      <td>1107.11488</td>\n",
       "      <td>721.176</td>\n",
       "      <td>19.980</td>\n",
       "      <td>741.156</td>\n",
       "    </tr>\n",
       "  </tbody>\n",
       "</table>\n",
       "<p>4383 rows × 5 columns</p>\n",
       "</div>"
      ],
      "text/plain": [
       "            Date  Consumption     Wind   Solar  Wind+Solar\n",
       "0     2006-01-01   1069.18400      NaN     NaN         NaN\n",
       "1     2006-01-02   1380.52100      NaN     NaN         NaN\n",
       "2     2006-01-03   1442.53300      NaN     NaN         NaN\n",
       "3     2006-01-04   1457.21700      NaN     NaN         NaN\n",
       "4     2006-01-05   1477.13100      NaN     NaN         NaN\n",
       "...          ...          ...      ...     ...         ...\n",
       "4378  2017-12-27   1263.94091  394.507  16.530     411.037\n",
       "4379  2017-12-28   1299.86398  506.424  14.162     520.586\n",
       "4380  2017-12-29   1295.08753  584.277  29.854     614.131\n",
       "4381  2017-12-30   1215.44897  721.247   7.467     728.714\n",
       "4382  2017-12-31   1107.11488  721.176  19.980     741.156\n",
       "\n",
       "[4383 rows x 5 columns]"
      ]
     },
     "execution_count": 91,
     "metadata": {},
     "output_type": "execute_result"
    }
   ],
   "source": [
    "ac.store_item_sales()"
   ]
  },
  {
   "cell_type": "code",
   "execution_count": null,
   "metadata": {},
   "outputs": [],
   "source": []
  }
 ],
 "metadata": {
  "kernelspec": {
   "display_name": "Python 3",
   "language": "python",
   "name": "python3"
  },
  "language_info": {
   "codemirror_mode": {
    "name": "ipython",
    "version": 3
   },
   "file_extension": ".py",
   "mimetype": "text/x-python",
   "name": "python",
   "nbconvert_exporter": "python",
   "pygments_lexer": "ipython3",
   "version": "3.8.5"
  }
 },
 "nbformat": 4,
 "nbformat_minor": 4
}
